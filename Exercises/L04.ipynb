{
 "cells": [
  {
   "cell_type": "code",
   "execution_count": 2,
   "metadata": {},
   "outputs": [
    {
     "data": {
      "text/html": [
       "<div>\n",
       "<style scoped>\n",
       "    .dataframe tbody tr th:only-of-type {\n",
       "        vertical-align: middle;\n",
       "    }\n",
       "\n",
       "    .dataframe tbody tr th {\n",
       "        vertical-align: top;\n",
       "    }\n",
       "\n",
       "    .dataframe thead th {\n",
       "        text-align: right;\n",
       "    }\n",
       "</style>\n",
       "<table border=\"1\" class=\"dataframe\">\n",
       "  <thead>\n",
       "    <tr style=\"text-align: right;\">\n",
       "      <th></th>\n",
       "      <th>TV</th>\n",
       "      <th>radio</th>\n",
       "      <th>newspaper</th>\n",
       "      <th>sales</th>\n",
       "    </tr>\n",
       "  </thead>\n",
       "  <tbody>\n",
       "    <tr>\n",
       "      <th>1</th>\n",
       "      <td>230.1</td>\n",
       "      <td>37.8</td>\n",
       "      <td>69.2</td>\n",
       "      <td>22.1</td>\n",
       "    </tr>\n",
       "    <tr>\n",
       "      <th>2</th>\n",
       "      <td>44.5</td>\n",
       "      <td>39.3</td>\n",
       "      <td>45.1</td>\n",
       "      <td>10.4</td>\n",
       "    </tr>\n",
       "    <tr>\n",
       "      <th>3</th>\n",
       "      <td>17.2</td>\n",
       "      <td>45.9</td>\n",
       "      <td>69.3</td>\n",
       "      <td>9.3</td>\n",
       "    </tr>\n",
       "    <tr>\n",
       "      <th>4</th>\n",
       "      <td>151.5</td>\n",
       "      <td>41.3</td>\n",
       "      <td>58.5</td>\n",
       "      <td>18.5</td>\n",
       "    </tr>\n",
       "    <tr>\n",
       "      <th>5</th>\n",
       "      <td>180.8</td>\n",
       "      <td>10.8</td>\n",
       "      <td>58.4</td>\n",
       "      <td>12.9</td>\n",
       "    </tr>\n",
       "  </tbody>\n",
       "</table>\n",
       "</div>"
      ],
      "text/plain": [
       "      TV  radio  newspaper  sales\n",
       "1  230.1   37.8       69.2   22.1\n",
       "2   44.5   39.3       45.1   10.4\n",
       "3   17.2   45.9       69.3    9.3\n",
       "4  151.5   41.3       58.5   18.5\n",
       "5  180.8   10.8       58.4   12.9"
      ]
     },
     "execution_count": 2,
     "metadata": {},
     "output_type": "execute_result"
    }
   ],
   "source": [
    "import pandas as pd\n",
    "\n",
    "data_path = \"../Resources/\"\n",
    "adv = pd.read_csv(data_path+\"Advertising.csv\", index_col=0)\n",
    "adv.head()\n",
    "\n"
   ]
  },
  {
   "cell_type": "code",
   "execution_count": 3,
   "metadata": {},
   "outputs": [
    {
     "data": {
      "text/plain": [
       "array([[  1. , 230.1],\n",
       "       [  1. ,  44.5],\n",
       "       [  1. ,  17.2],\n",
       "       [  1. , 151.5],\n",
       "       [  1. , 180.8],\n",
       "       [  1. ,   8.7],\n",
       "       [  1. ,  57.5],\n",
       "       [  1. , 120.2],\n",
       "       [  1. ,   8.6],\n",
       "       [  1. , 199.8],\n",
       "       [  1. ,  66.1],\n",
       "       [  1. , 214.7],\n",
       "       [  1. ,  23.8],\n",
       "       [  1. ,  97.5],\n",
       "       [  1. , 204.1],\n",
       "       [  1. , 195.4],\n",
       "       [  1. ,  67.8],\n",
       "       [  1. , 281.4],\n",
       "       [  1. ,  69.2],\n",
       "       [  1. , 147.3],\n",
       "       [  1. , 218.4],\n",
       "       [  1. , 237.4],\n",
       "       [  1. ,  13.2],\n",
       "       [  1. , 228.3],\n",
       "       [  1. ,  62.3],\n",
       "       [  1. , 262.9],\n",
       "       [  1. , 142.9],\n",
       "       [  1. , 240.1],\n",
       "       [  1. , 248.8],\n",
       "       [  1. ,  70.6],\n",
       "       [  1. , 292.9],\n",
       "       [  1. , 112.9],\n",
       "       [  1. ,  97.2],\n",
       "       [  1. , 265.6],\n",
       "       [  1. ,  95.7],\n",
       "       [  1. , 290.7],\n",
       "       [  1. , 266.9],\n",
       "       [  1. ,  74.7],\n",
       "       [  1. ,  43.1],\n",
       "       [  1. , 228. ],\n",
       "       [  1. , 202.5],\n",
       "       [  1. , 177. ],\n",
       "       [  1. , 293.6],\n",
       "       [  1. , 206.9],\n",
       "       [  1. ,  25.1],\n",
       "       [  1. , 175.1],\n",
       "       [  1. ,  89.7],\n",
       "       [  1. , 239.9],\n",
       "       [  1. , 227.2],\n",
       "       [  1. ,  66.9],\n",
       "       [  1. , 199.8],\n",
       "       [  1. , 100.4],\n",
       "       [  1. , 216.4],\n",
       "       [  1. , 182.6],\n",
       "       [  1. , 262.7],\n",
       "       [  1. , 198.9],\n",
       "       [  1. ,   7.3],\n",
       "       [  1. , 136.2],\n",
       "       [  1. , 210.8],\n",
       "       [  1. , 210.7],\n",
       "       [  1. ,  53.5],\n",
       "       [  1. , 261.3],\n",
       "       [  1. , 239.3],\n",
       "       [  1. , 102.7],\n",
       "       [  1. , 131.1],\n",
       "       [  1. ,  69. ],\n",
       "       [  1. ,  31.5],\n",
       "       [  1. , 139.3],\n",
       "       [  1. , 237.4],\n",
       "       [  1. , 216.8],\n",
       "       [  1. , 199.1],\n",
       "       [  1. , 109.8],\n",
       "       [  1. ,  26.8],\n",
       "       [  1. , 129.4],\n",
       "       [  1. , 213.4],\n",
       "       [  1. ,  16.9],\n",
       "       [  1. ,  27.5],\n",
       "       [  1. , 120.5],\n",
       "       [  1. ,   5.4],\n",
       "       [  1. , 116. ],\n",
       "       [  1. ,  76.4],\n",
       "       [  1. , 239.8],\n",
       "       [  1. ,  75.3],\n",
       "       [  1. ,  68.4],\n",
       "       [  1. , 213.5],\n",
       "       [  1. , 193.2],\n",
       "       [  1. ,  76.3],\n",
       "       [  1. , 110.7],\n",
       "       [  1. ,  88.3],\n",
       "       [  1. , 109.8],\n",
       "       [  1. , 134.3],\n",
       "       [  1. ,  28.6],\n",
       "       [  1. , 217.7],\n",
       "       [  1. , 250.9],\n",
       "       [  1. , 107.4],\n",
       "       [  1. , 163.3],\n",
       "       [  1. , 197.6],\n",
       "       [  1. , 184.9],\n",
       "       [  1. , 289.7],\n",
       "       [  1. , 135.2],\n",
       "       [  1. , 222.4],\n",
       "       [  1. , 296.4],\n",
       "       [  1. , 280.2],\n",
       "       [  1. , 187.9],\n",
       "       [  1. , 238.2],\n",
       "       [  1. , 137.9],\n",
       "       [  1. ,  25. ],\n",
       "       [  1. ,  90.4],\n",
       "       [  1. ,  13.1],\n",
       "       [  1. , 255.4],\n",
       "       [  1. , 225.8],\n",
       "       [  1. , 241.7],\n",
       "       [  1. , 175.7],\n",
       "       [  1. , 209.6],\n",
       "       [  1. ,  78.2],\n",
       "       [  1. ,  75.1],\n",
       "       [  1. , 139.2],\n",
       "       [  1. ,  76.4],\n",
       "       [  1. , 125.7],\n",
       "       [  1. ,  19.4],\n",
       "       [  1. , 141.3],\n",
       "       [  1. ,  18.8],\n",
       "       [  1. , 224. ],\n",
       "       [  1. , 123.1],\n",
       "       [  1. , 229.5],\n",
       "       [  1. ,  87.2],\n",
       "       [  1. ,   7.8],\n",
       "       [  1. ,  80.2],\n",
       "       [  1. , 220.3],\n",
       "       [  1. ,  59.6],\n",
       "       [  1. ,   0.7],\n",
       "       [  1. , 265.2],\n",
       "       [  1. ,   8.4],\n",
       "       [  1. , 219.8],\n",
       "       [  1. ,  36.9],\n",
       "       [  1. ,  48.3],\n",
       "       [  1. ,  25.6],\n",
       "       [  1. , 273.7],\n",
       "       [  1. ,  43. ],\n",
       "       [  1. , 184.9],\n",
       "       [  1. ,  73.4],\n",
       "       [  1. , 193.7],\n",
       "       [  1. , 220.5],\n",
       "       [  1. , 104.6],\n",
       "       [  1. ,  96.2],\n",
       "       [  1. , 140.3],\n",
       "       [  1. , 240.1],\n",
       "       [  1. , 243.2],\n",
       "       [  1. ,  38. ],\n",
       "       [  1. ,  44.7],\n",
       "       [  1. , 280.7],\n",
       "       [  1. , 121. ],\n",
       "       [  1. , 197.6],\n",
       "       [  1. , 171.3],\n",
       "       [  1. , 187.8],\n",
       "       [  1. ,   4.1],\n",
       "       [  1. ,  93.9],\n",
       "       [  1. , 149.8],\n",
       "       [  1. ,  11.7],\n",
       "       [  1. , 131.7],\n",
       "       [  1. , 172.5],\n",
       "       [  1. ,  85.7],\n",
       "       [  1. , 188.4],\n",
       "       [  1. , 163.5],\n",
       "       [  1. , 117.2],\n",
       "       [  1. , 234.5],\n",
       "       [  1. ,  17.9],\n",
       "       [  1. , 206.8],\n",
       "       [  1. , 215.4],\n",
       "       [  1. , 284.3],\n",
       "       [  1. ,  50. ],\n",
       "       [  1. , 164.5],\n",
       "       [  1. ,  19.6],\n",
       "       [  1. , 168.4],\n",
       "       [  1. , 222.4],\n",
       "       [  1. , 276.9],\n",
       "       [  1. , 248.4],\n",
       "       [  1. , 170.2],\n",
       "       [  1. , 276.7],\n",
       "       [  1. , 165.6],\n",
       "       [  1. , 156.6],\n",
       "       [  1. , 218.5],\n",
       "       [  1. ,  56.2],\n",
       "       [  1. , 287.6],\n",
       "       [  1. , 253.8],\n",
       "       [  1. , 205. ],\n",
       "       [  1. , 139.5],\n",
       "       [  1. , 191.1],\n",
       "       [  1. , 286. ],\n",
       "       [  1. ,  18.7],\n",
       "       [  1. ,  39.5],\n",
       "       [  1. ,  75.5],\n",
       "       [  1. ,  17.2],\n",
       "       [  1. , 166.8],\n",
       "       [  1. , 149.7],\n",
       "       [  1. ,  38.2],\n",
       "       [  1. ,  94.2],\n",
       "       [  1. , 177. ],\n",
       "       [  1. , 283.6],\n",
       "       [  1. , 232.1]])"
      ]
     },
     "execution_count": 3,
     "metadata": {},
     "output_type": "execute_result"
    }
   ],
   "source": [
    "import numpy as np\n",
    "# Y is a response variable\n",
    "Y = sales = adv['sales']\n",
    "# Antag att regressionen av 'TV'  p[ 'sales' är ungefär i lnje\n",
    "# B = Beta\n",
    "# Y = B1 X\n",
    "# B0 = M = Skärningspunkt = Bias\n",
    "# B1 = Lutningen\n",
    "# sales = B0 + B1 dot 'TV'\n",
    "# Modellspecificationsmatrisen\n",
    "X = TV = np.column_stack([np.ones(Y.shape[0]), adv['TV']])\n",
    "X\n"
   ]
  },
  {
   "cell_type": "markdown",
   "metadata": {},
   "source": [
    "-1=T\n",
    "` = matricmultiplication(?)\n",
    "$\\hat{\\beta} = \\textbf{b}(bold) = (X`X)^-1X`\\textbf{y}$\n"
   ]
  },
  {
   "cell_type": "code",
   "execution_count": 4,
   "metadata": {},
   "outputs": [
    {
     "data": {
      "text/plain": [
       "array([7.03259355, 0.04753664])"
      ]
     },
     "execution_count": 4,
     "metadata": {},
     "output_type": "execute_result"
    }
   ],
   "source": [
    "# pesudo-ivers för prestandard\n",
    "b = np.linalg.pinv(X.T @ X) @ X.T @ Y\n",
    "b"
   ]
  },
  {
   "cell_type": "markdown",
   "metadata": {},
   "source": [
    "$y(hat) = \\Beta_0 + \\Beta_1x$"
   ]
  },
  {
   "cell_type": "code",
   "execution_count": 5,
   "metadata": {},
   "outputs": [
    {
     "data": {
      "text/plain": [
       "[<matplotlib.lines.Line2D at 0x224a602a540>]"
      ]
     },
     "execution_count": 5,
     "metadata": {},
     "output_type": "execute_result"
    },
    {
     "data": {
      "image/png": "[encoded data removed]",
      "text/plain": [
       "<Figure size 640x480 with 1 Axes>"
      ]
     },
     "metadata": {},
     "output_type": "display_data"
    }
   ],
   "source": [
    "# Förhållandet mellan TV reklam och försäljing\n",
    "import matplotlib.pyplot as plt \n",
    "plt.scatter(X[:, 1], Y)\n",
    "x = np.linspace(0,300)\n",
    "y_hat = b[0] + b[1]*x\n",
    "plt.plot(x, y_hat, c=\"red\")\n",
    "\n",
    "\n",
    "# Regresion linjen kan skilja sig ifrån sample till sample"
   ]
  },
  {
   "cell_type": "code",
   "execution_count": 6,
   "metadata": {},
   "outputs": [
    {
     "data": {
      "text/plain": [
       "2102.5305831313512"
      ]
     },
     "execution_count": 6,
     "metadata": {},
     "output_type": "execute_result"
    }
   ],
   "source": [
    "# RSS Residual Sum of Squares (NOTE Regression sum of square har samma acronym RSS)\n",
    "# SSE Sum of Square Erros\n",
    "# (RSS == SSE)(?)\n",
    "\n",
    "# RSS aka SSE är vad vi försöker minimera med vår LSM (Least Squares Method)\n",
    "n = Y.shape[0]\n",
    "# antalet parametrar TV i detta fall, så 1\n",
    "v = X.shape[1] - 1\n",
    "\n",
    "SSE = np.sum(np.square(Y - (X @ b)))\n",
    "SSE"
   ]
  },
  {
   "cell_type": "code",
   "execution_count": 7,
   "metadata": {},
   "outputs": [],
   "source": [
    "# Kovariance om en variable ändras så påverkar detta en annan variable\n",
    "# Om kovariance är 0 så är dom oberoende\n",
    "# Men om kovariances är possitiv eller neggativ så betyder det inte nödvändigt vis \n",
    "# att coefficienterna är beroende"
   ]
  },
  {
   "cell_type": "markdown",
   "metadata": {},
   "source": [
    "$\\texttt{Cov}(X, Y) = E[(X - \\mu x)(Y - \\mu y)]$\n",
    "#\n",
    "$\\texttt{Cov}(X, Y) = E[(X - \\mu x)(Y - \\mu y)] = E[XY] - E[X]E[Y]$\n",
    "#\n",
    "$S_{xy} \\rightarrow (X - \\mu x)(Y - \\mu y)$\n",
    "\n",
    "$S == Population\\;aka\\;Sample\\;Space$\n",
    "\n",
    "##### Om x och Y är oberoende så är Cov(X, Y) = 0, men vi kan inte anta det omvända. Dvs Cov=0 betyder inte nödvändigtvis att X och Y är oberoende, men det är åtminstone inte linjärt beroende.\n",
    "\n",
    "##### Kovarians säger inte att det finns ett samband bara att de rör sig åt samma håll \n",
    "##### Korrelation säger att det fins ett samband och ligger mellan -1 och 1\n",
    "##### En starkare egenskap är korrelation (Pearson coefficient of correlation), som är ett värde mellan och inklusive -1 och 1. \n",
    "##### Låt $X$ och $Y$ vara slumpvariabler med medel $\\mu_Y$ respetive $\\mu_Y$ samt varianser $\\sigma_X^2$ och $\\sigma_Y^2$  \n",
    "##### Korrelationen mellan $X$ och $Y$ ges då av:  \n",
    "\\begin{equation*}\n",
    "$$\\rho_{XY} = \\frac{\\texttt{Cov(X, Y)}}{\\sqrt{((\\texttt{Var} X)(\\texttt{Var} Y))}}$$\n",
    "\\end{equation*}\n",
    "\n",
    "Om Personkoefficienten är 1 eller -1 ($|\\rho XY|=1$) då har vi visat att det finns en ekvation: $Y = \\beta_0 + \\beta_1X$\n"
   ]
  },
  {
   "cell_type": "markdown",
   "metadata": {},
   "source": [
    "##### Standardfel (kring medlet):\n",
    "$$\\frac{\\sigma^2}{2}$$"
   ]
  },
  {
   "cell_type": "code",
   "execution_count": 8,
   "metadata": {},
   "outputs": [
    {
     "name": "stdout",
     "output_type": "stream",
     "text": [
      "Confidence interval on predictor B1: 0.0475 +- 0.0055\n",
      "Confidence interval on predictor B1: 0.0475 +- 0.0055\n"
     ]
    }
   ],
   "source": [
    "# Stickprovet\n",
    "var = SSE/(n-v-1)\n",
    "S = np.sqrt(var) # Residual standard error, altså en uppskatning av standardfelet/ stickprovsavvikelsen\n",
    "S\n",
    "# Sum of squares Regression\n",
    "SSR = np.sum(b*(X.T @ Y)) - (np.square(np.sum(Y)/n))\n",
    "SSR\n",
    "Syy = np.sum(np.square(Y)) - (np.square(np.sum(Y))/n)\n",
    "\n",
    "# Standard error (of the mean)\n",
    "se = var / n \n",
    "\n",
    "# Sqaure of standard error of B1 = var/Sxx\n",
    "Sxx = np.sum(np.square(X)) - (np.square(np.sum(X))/n)\n",
    "se_b = var/Sxx\n",
    "\n",
    "# confirence intervall\n",
    "ci = (b[1], 2*np.sqrt(se_b))\n",
    "print(f\"Confidence interval on predictor B1: {ci[0]:.4f} +- {ci[1]:.4f}\")\n",
    "#> # Stickprovet\n",
    "var = SSE/(n-v-1)\n",
    "S = np.sqrt(var) # Residual standard error, altså en uppskatning av standardfelet/ stickprovsavvikelsen\n",
    "S\n",
    "# Sum of squares Regression\n",
    "SSR = np.sum(b*(X.T @ Y)) - (np.square(np.sum(Y)/n))\n",
    "SSR\n",
    "Syy = np.sum(np.square(Y)) - (np.square(np.sum(Y))/n)\n",
    "\n",
    "# Standard error (of the mean)\n",
    "se = var / n \n",
    "\n",
    "# Sqaure of standard error of B1 = var/Sxx\n",
    "Sxx = np.sum(np.square(X)) - (np.square(np.sum(X))/n)\n",
    "se_b = var/Sxx\n",
    "\n",
    "# confirence intervall\n",
    "ci = (b[1], 2*np.sqrt(se_b))\n",
    "print(f\"Confidence interval on predictor B1: {ci[0]:.4f} +- {ci[1]:.4f}\")\n",
    "#>> Confidence interval on predictor B1: 0.0475 +- 0.0055\n",
    "\n",
    "# Om stickproven har sama medel så förväntar vi oss att det hamnar mellan ovan\n",
    "# Detta är väldigt ungefärligt ett 90% interval (2\\sigma). Om vi k;r regressionen många \n",
    "# gånger på delmängden av datan (som skall ha samma medel, dvs vara balanserad) så\n",
    "# väntar vi oss att 90% av värden hamnar mellan 0.052 och 0.042\n",
    "# När värdet inte är inom intervallet då är dom outliers och vi kan inte dra några\n",
    "# slutsatser alls, dom kan ha vilket värde som helst\n",
    "\n",
    "# Så för varjet 1000$ vi spenderare så kommer vi sälja 0.042 till 0.053 enheter mer \n"
   ]
  },
  {
   "cell_type": "code",
   "execution_count": 9,
   "metadata": {},
   "outputs": [
    {
     "data": {
      "text/plain": [
       "7.03259354913008"
      ]
     },
     "execution_count": 9,
     "metadata": {},
     "output_type": "execute_result"
    }
   ],
   "source": [
    "x_mean = np.mean(X[:,1])\n",
    "se_intercept = var * (1/n * (x_mean/(np.square(np.sum(X-x_mean)))))\n",
    "se_intercept\n",
    "# borde bli [6.130, 7.935]\n",
    "# Notera att detta bara är en grov formle, vi kommer få en mer precis formel senare\n",
    "b[0]\n",
    "# Detta är värdet vi får om vi inte spenderar något på reklam med 90% sannolikhet"
   ]
  },
  {
   "cell_type": "markdown",
   "metadata": {},
   "source": [
    "## Hypotestestning\n",
    "Noll-Hypotes\\\n",
    "$H_0$ : There is no realtionship beteween X and Y\\\n",
    "$H_a$ : There is a realtionship beteween X and Y\\\n",
    "\\\n",
    "Alt\\\n",
    "$H_0$ : $\\beta_1 = 0$\\\n",
    "$H_a$ : $\\beta_1 \\neq 0$\\\n",
    "\\\n",
    "Guiness va ett av de första bryggarna som började använda t statistka metoder för\\ \n",
    "kvalitetskontroll och det gick strålande.\\\n",
    "T-Statiska för att testa relevans\\\n",
    "$$t = \\frac{\\hat{\\beta}_1 - \\mathbb{0}} {SE(\\hat{\\beta_1})}$$\\\n",
    "Du kan göra samma uträkning för beta 0, bara att byta ut 1 mot noll"
   ]
  },
  {
   "cell_type": "code",
   "execution_count": 10,
   "metadata": {},
   "outputs": [
    {
     "data": {
      "text/plain": [
       "6303.106346187029"
      ]
     },
     "execution_count": 10,
     "metadata": {},
     "output_type": "execute_result"
    }
   ],
   "source": [
    "# Ju närmare 0 ju bättre\n",
    "t=b[1]/se_b\n",
    "t\n",
    "# Aka B1 != 0, dvs regressionen är relevant, dom förklarar något om datan\n",
    "# Detta kallas P värde\n",
    "# Nu är frågran hur mycekt regressions linjen förklarar av värdet  "
   ]
  },
  {
   "cell_type": "markdown",
   "metadata": {},
   "source": [
    "Ok, så regressionen är relevant, men hur bra är den?\\\n",
    "$$\\hat{\\rho} = r = \\frac{S_{xy}}{\\sqrt{s_{xx}\\times s_{yy}}}$$\n",
    "Om värdet är 1(?) så betyder det att alla punkterna ligger på regressions linjen"
   ]
  },
  {
   "cell_type": "code",
   "execution_count": 20,
   "metadata": {},
   "outputs": [
    {
     "data": {
      "text/plain": [
       "'\\nDesignmatirce\\nB0 B1 \\n1  x0\\n1  x1\\n1  X2 \\n(m)+(k*x)\\n(B0)+(B1*x_n) = (y_n)\\n'"
      ]
     },
     "execution_count": 20,
     "metadata": {},
     "output_type": "execute_result"
    },
    {
     "data": {
      "image/png": "[encoded data removed]",
      "text/plain": [
       "<Figure size 640x480 with 1 Axes>"
      ]
     },
     "metadata": {},
     "output_type": "display_data"
    }
   ],
   "source": [
    "import matplotlib.pyplot as plt\n",
    "import seaborn as sns \n",
    "import numpy as np \n",
    "sns.scatterplot(x=adv[\"TV\"], y=adv[\"sales\"]);\n",
    "#np.linspace(0,300)\n",
    "#sns.lineplot(np.linspace(0,100))\n",
    "'''\n",
    "Designmatirce\n",
    "B0 B1 \n",
    "1  x0\n",
    "1  x1\n",
    "1  X2 \n",
    "(m)+(k*x)\n",
    "(B0)+(B1*x_n) = (y_n)\n",
    "'''"
   ]
  }
 ],
 "metadata": {
  "kernelspec": {
   "display_name": ".venv",
   "language": "python",
   "name": "python3"
  },
  "language_info": {
   "codemirror_mode": {
    "name": "ipython",
    "version": 3
   },
   "file_extension": ".py",
   "mimetype": "text/x-python",
   "name": "python",
   "nbconvert_exporter": "python",
   "pygments_lexer": "ipython3",
   "version": "3.12.5"
  }
 },
 "nbformat": 4,
 "nbformat_minor": 2
}
