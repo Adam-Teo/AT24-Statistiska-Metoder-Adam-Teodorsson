{
 "cells": [
  {
   "cell_type": "code",
   "execution_count": 12,
   "metadata": {},
   "outputs": [
    {
     "data": {
      "text/plain": [
       "(0.9453125, 0.11718749999999996)"
      ]
     },
     "execution_count": 12,
     "metadata": {},
     "output_type": "execute_result"
    }
   ],
   "source": [
    "import scipy.stats as stats\n",
    "#cdf Sannolikheten att upp till 7 classifekeras korreckt\n",
    "#pdf Sannolikheten att se exakt 7 aka att 7 identiferas korrekt\n",
    "stats.binom.cdf(7, n=10, p=0.5), stats.binom.pmf(7, n=10, p=0.5)\n",
    "# Tvärt om är överlvenads funktionen aka att 7 klassifeseras fel\n"
   ]
  },
  {
   "cell_type": "code",
   "execution_count": 16,
   "metadata": {},
   "outputs": [
    {
     "data": {
      "text/plain": [
       "0.19011987137619904"
      ]
     },
     "execution_count": 16,
     "metadata": {},
     "output_type": "execute_result"
    }
   ],
   "source": [
    "# sämmer ej, ska bli 0.03\n",
    "stats.binom.pmf(3, n=20, p=0.1)"
   ]
  },
  {
   "cell_type": "code",
   "execution_count": null,
   "metadata": {},
   "outputs": [],
   "source": [
    "stats.hypergeom.cdf(3, 1000, 100,  )"
   ]
  }
 ],
 "metadata": {
  "kernelspec": {
   "display_name": ".venv",
   "language": "python",
   "name": "python3"
  },
  "language_info": {
   "codemirror_mode": {
    "name": "ipython",
    "version": 3
   },
   "file_extension": ".py",
   "mimetype": "text/x-python",
   "name": "python",
   "nbconvert_exporter": "python",
   "pygments_lexer": "ipython3",
   "version": "3.12.5"
  }
 },
 "nbformat": 4,
 "nbformat_minor": 2
}
