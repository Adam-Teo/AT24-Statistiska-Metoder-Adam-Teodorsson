{
 "cells": [
  {
   "cell_type": "code",
   "execution_count": 3,
   "metadata": {},
   "outputs": [
    {
     "data": {
      "text/plain": [
       "repr(10) + repr(20)"
      ]
     },
     "execution_count": 3,
     "metadata": {},
     "output_type": "execute_result"
    }
   ],
   "source": [
    "class Complex:\n",
    "    \n",
    "    def __init__(self, real, image):\n",
    "        self.real = real \n",
    "        self.image = image\n",
    "    \n",
    "    def __repr__(self):\n",
    "        return f\"repr({self.real}) + repr({self.image})\"\n",
    "\n",
    "    def __add__(self, other):\n",
    "        return Complex(self.real+other.real, self.image+other.image)\n",
    "\n",
    "    def fit(X, y):\n",
    "        b = np.inalg.\n",
    "a = Complex(5, 2)\n",
    "b = Complex(2, 4)\n",
    "a + b \n",
    "\n",
    "    "
   ]
  },
  {
   "cell_type": "code",
   "execution_count": null,
   "metadata": {},
   "outputs": [],
   "source": [
    "## from repetririon_classes import Complex\n",
    "# importera classen complex från python filen\n",
    "# notera att .py filen och file som gör importen\n",
    "# ska ligga i samma map "
   ]
  }
 ],
 "metadata": {
  "kernelspec": {
   "display_name": ".venv",
   "language": "python",
   "name": "python3"
  },
  "language_info": {
   "codemirror_mode": {
    "name": "ipython",
    "version": 3
   },
   "file_extension": ".py",
   "mimetype": "text/x-python",
   "name": "python",
   "nbconvert_exporter": "python",
   "pygments_lexer": "ipython3",
   "version": "3.12.5"
  }
 },
 "nbformat": 4,
 "nbformat_minor": 2
}
