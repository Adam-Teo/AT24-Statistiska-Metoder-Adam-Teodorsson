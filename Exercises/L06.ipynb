{
 "cells": [
  {
   "cell_type": "code",
   "execution_count": 42,
   "metadata": {},
   "outputs": [],
   "source": [
    "# Multipel Linjär Regression\n",
    "# Om R2 värdet inte är tillräckligt högt då är den inte linjär och då får vi ta\n",
    "# till dessa knep \n"
   ]
  },
  {
   "cell_type": "markdown",
   "metadata": {},
   "source": [
    "$Y = X\\beta + E$\n",
    "där X är modellspecifikatons matrisen. E är en vektor med stokastiska..."
   ]
  },
  {
   "cell_type": "code",
   "execution_count": 43,
   "metadata": {},
   "outputs": [
    {
     "data": {
      "text/plain": [
       "array([ 2.93888937e+00,  4.57646455e-02,  1.88530017e-01, -1.03749304e-03])"
      ]
     },
     "execution_count": 43,
     "metadata": {},
     "output_type": "execute_result"
    }
   ],
   "source": [
    "import pandas as pd\n",
    "import numpy as np\n",
    "\n",
    "data_path = \"../Resources/\"\n",
    "adv = pd.read_csv(data_path+\"Advertising.csv\", index_col=0)\n",
    "adv.head()\n",
    "\n",
    "import numpy as np \n",
    "Y = adv[\"sales\"]\n",
    "X = np.column_stack([np.ones(Y.shape[0]), adv[\"TV\"], adv[\"radio\"], adv[\"newspaper\"]])\n",
    "X\n",
    "b = np.linalg.pinv(X.T @ X) @ X.T @ Y \n",
    "b"
   ]
  },
  {
   "cell_type": "markdown",
   "metadata": {},
   "source": [
    "$\\hat{\\beta} = (X^TX)^{-1}X^{T}Y$\n",
    "\n",
    "Beta innehåller både $\\beta_0$ och $\\beta_1$\n",
    "\n",
    "$\\sum^{n}_{i=1}[y_i - (b_0 + b_1+x_{1i} \\cdots b_kx_{ki})^2]$\n"
   ]
  },
  {
   "cell_type": "code",
   "execution_count": 59,
   "metadata": {},
   "outputs": [
    {
     "data": {
      "text/plain": [
       "174.4833826277272"
      ]
     },
     "execution_count": 59,
     "metadata": {},
     "output_type": "execute_result"
    }
   ],
   "source": [
    "b = np.linalg.pinv(X.T @ X) @ X.T @ Y \n",
    "k = len(b)-1\n",
    "n = Y.shape[0]\n",
    "SSE = np.sum(np.square(Y - (X@b)))\n",
    "# Summan  av de kvadratiska felen\n",
    "\n",
    "var = SSE/(n-k-1)\n",
    "# Stora S = sigma hat kvadrat\n",
    "S = np.sqrt(var)\n",
    "\n",
    "#SSE  felet från vårt y  till true median line\n",
    "\n",
    "#SSR felet från vårt y till regresionlinjen\n",
    "#SSR ingår i SSE\n",
    "\n",
    "#Ett sätt att räkna ut SSR på\n",
    "#SSR = (n*np.sun(b*(X.T @ Y)) - (np.square(np.sum(Y))/n\n",
    "#SSR = np.sum(b*(X/T @ Y)) - (np.square(np.sum(Y))/n\n",
    "\n",
    "Syy = np.sum(np.square(Y)) - (np.square(np.sum(Y))/n)\n",
    "# Alt eftersom SSR är en del av SSE\n",
    "SSR = Syy - SSE\n",
    "\n",
    "\n",
    "# SSE Den rkitkga variansen\n",
    "# SSR Vår gissade varians"
   ]
  },
  {
   "cell_type": "code",
   "execution_count": 45,
   "metadata": {},
   "outputs": [
    {
     "data": {
      "text/plain": [
       "<matplotlib.collections.PathCollection at 0x203c6710d10>"
      ]
     },
     "execution_count": 45,
     "metadata": {},
     "output_type": "execute_result"
    },
    {
     "data": {
      "image/png": "[encoded data removed]",
      "text/plain": [
       "<Figure size 640x480 with 1 Axes>"
      ]
     },
     "metadata": {},
     "output_type": "display_data"
    }
   ],
   "source": [
    "import matplotlib.pyplot as plt\n",
    "\n",
    "plt.scatter(Y, X @ b)\n"
   ]
  },
  {
   "cell_type": "code",
   "execution_count": 46,
   "metadata": {},
   "outputs": [
    {
     "data": {
      "text/plain": [
       "array([ 2.93888937e+00,  4.57646455e-02,  1.88530017e-01, -1.03749304e-03])"
      ]
     },
     "execution_count": 46,
     "metadata": {},
     "output_type": "execute_result"
    }
   ],
   "source": [
    "b\n",
    "# Vi ser att tdiningarna är negativ så jumer vi spenderar jumindre säljervi"
   ]
  },
  {
   "cell_type": "code",
   "execution_count": 47,
   "metadata": {},
   "outputs": [
    {
     "data": {
      "text/plain": [
       "0.8972106381789521"
      ]
     },
     "execution_count": 47,
     "metadata": {},
     "output_type": "execute_result"
    }
   ],
   "source": [
    "Rsq = SSR/Syy\n",
    "\n",
    "Rsq \n",
    "# Nästan 90%\n",
    "# Chose 90% as confidence level"
   ]
  },
  {
   "cell_type": "code",
   "execution_count": 48,
   "metadata": {},
   "outputs": [
    {
     "name": "stdout",
     "output_type": "stream",
     "text": [
      "961.1971866719289\n",
      "3\n"
     ]
    }
   ],
   "source": [
    "import scipy.stats as stats\n",
    "# Noll hypotesen = H0: All beta = 0\n",
    "# SSR/k / Sigma Hat Kvadrat\n",
    "sig_statistics = (SSR/k)/S \n",
    "p_significance = stats.f.sf(sig_statistics, k, n-k-1)\n",
    "# Om P är högt så förklarar den inget \n",
    "# vi får e-117 så extremt låg sanolikhet att det inte skulle finnas ett sambands\n",
    "# We reject the null-hypothesis, regression IS significant\n",
    "p_significance\n",
    "print(sig_statistics)\n",
    "print(k)"
   ]
  },
  {
   "cell_type": "markdown",
   "metadata": {},
   "source": [
    "Variance/Co-variance matrix\n",
    "$$ c = (X^TX)^{-1}\\sigma^2 $$"
   ]
  },
  {
   "cell_type": "code",
   "execution_count": 49,
   "metadata": {},
   "outputs": [
    {
     "data": {
      "text/plain": [
       "0.9166073083100381"
      ]
     },
     "execution_count": 49,
     "metadata": {},
     "output_type": "execute_result"
    }
   ],
   "source": [
    "\n",
    "# Vi använder co-variancen förr att hitta parameterar som inte är relveanta \n",
    "# som vi då kan plocka bort.\n",
    "# 1. Reggrison\n",
    "# 2. uträkningar\n",
    "# 3. relevans\n",
    "\n",
    "# Märkligt att vi säljer mindre ju mer vi spenderar på tidningsreklam, men\n",
    "# vi kan kolla den här variablen\n",
    "c = np.linalg.pinv(X.T@X)*var\n",
    "c\n",
    "\n",
    "# H0: b3 is irrelevant, beta3 = 0 (hypotes)\n",
    "b3_statistic = b[3] / (S*np.sqrt(c[3, 3]))\n",
    "p_b3 = 2*min(stats.t.cdf(b3_statistic, n-k-1), stats.t.sf(b3_statistic, n-k-1))\n",
    "p_b3\n",
    "# cd och sf är värdena som ligger till höger och vänster om intervallen \n",
    "# Hade distrubutionen inte varit ex gemetriskt då hade man bara använt höger värdet(?)\n",
    "# Det är 91% sannolikhet att b3 är irrelevant, det är endast felet vi ser, därför får vi \n",
    "# ett negativt värde \n",
    "# därför bör vi ta bort b3(tidningns) columnen och köra igen\n",
    "\n",
    "\n",
    "p_b3"
   ]
  },
  {
   "cell_type": "code",
   "execution_count": 50,
   "metadata": {},
   "outputs": [
    {
     "name": "stdout",
     "output_type": "stream",
     "text": [
      "[ 2.93888937e+00  4.57646455e-02  1.88530017e-01 -1.03749304e-03]\n",
      "[ 2.93888937e+00  4.57646455e-02  1.88530017e-01 -1.03749304e-03]\n"
     ]
    }
   ],
   "source": [
    "# Sanity Check, check if I could remake X and Y and get the same results\n",
    "BY = np.array(adv[\"sales\"])\n",
    "BX = np.array(adv[[\"TV\",\"radio\",\"newspaper\"]])\n",
    "BX = np.column_stack([np.ones(BY.shape[0]), BX] )  \n",
    "\n",
    "\n",
    "b = np.linalg.pinv(X.T @ X) @ X.T @ Y\n",
    "B = np.linalg.pinv(BX.T @ BX) @ BX.T @ BY  \n",
    "print(b)\n",
    "print(B)"
   ]
  },
  {
   "cell_type": "code",
   "execution_count": 51,
   "metadata": {},
   "outputs": [],
   "source": [
    "# Train Tests Splitt\n",
    "# Om två olika parametera har samma fel aka om x2 och x3 har samma värde \n",
    "# så funkar inte vår regresion metod, ovanligt fall men händer ofta i tids sereier\n",
    "# Y = X\\beta + E (testet som fortfarande måste stämma)\n",
    "# händer också om vi råkar dubblera datan då har vi korrelation mellan feltärmerna\n",
    "# aka feltärmerna måste vara okorrelerade\n",
    "# så ex i advertaisen datan, om vi börja årdna den i måndasvis så kan detta hända\n",
    "# då månader kan påverka försälnjingen\n",
    "# Om rse varierar mycket från sample till sample då kan detta tyda på att vi har \n",
    "# det här problemet\n",
    "\n",
    "\n",
    "Y = adv[\"sales\"]\n",
    "X = np.column_stack([np.ones(Y.shape[0]), adv[\"TV\"], adv[\"radio\"], adv[\"TV\"]*adv[\"radio\"]])\n",
    "X\n",
    "b = np.linalg.pinv(X.T @ X) @ X.T @ Y \n",
    "b\n",
    "\n",
    "# men x_1 och x_2 är fortfarnad relevanta \n",
    "\n",
    "# vi kan köra alla metoder\n",
    "\n",
    "# Detta kallas feature engineering \n",
    "# men om det inte finns någon relation mellan X och Y så kommer vi alldrig hitta något\n",
    "# många som bara kör träningsdatan utan att göra en splitt, om man har tur så funkar det\n",
    "# men du vet inte hur väl modeln kommer funka på okänd dtat\n",
    "\n",
    "# litet y benämner ofta testdata\n",
    "test_df = pd.DataFrame(adv[:10])\n",
    "X_test = np.column_stack( [np.ones(10), test_df['TV'], test_df['radio'], test_df['TV']*test_df['radio']] ) \n",
    "Y_test = test_df['sales']\n",
    "\n",
    "train_df = pd.DataFrame(adv[10:160])\n",
    "X_train = np.column_stack( [np.ones(150), train_df['TV'], train_df['radio'], train_df['TV']*train_df['radio']] ) \n",
    "Y_train = train_df['sales']\n",
    "\n",
    "val_df = pd.DataFrame(adv[160:200])\n",
    "X_val = np.column_stack( [np.ones(40), val_df['TV'], val_df['radio'], val_df['TV']*val_df['radio']] ) \n",
    "Y_val = val_df['sales']\n",
    "\n",
    "# vi vill plovks ut värdenat till testet random\n",
    "\n",
    "\n",
    "\n",
    "\n"
   ]
  },
  {
   "cell_type": "code",
   "execution_count": 52,
   "metadata": {},
   "outputs": [],
   "source": [
    "b = np.linalg.pinv(X_train.T @ X_train) @ X_train.T @ Y_train \n",
    "k = len(b)-1\n",
    "n = Y_train.shape[0]\n",
    "SSE = np.sum(np.square(Y_train - (X_train@b)))\n",
    "\n",
    "var = SSE/(n-k-1)\n",
    "S = np.sqrt(var)\n",
    "\n",
    "\n",
    "Syy = np.sum(np.square(Y)) - (np.square(np.sum(Y))/n)\n",
    "SSR = Syy - SSE"
   ]
  },
  {
   "cell_type": "code",
   "execution_count": 53,
   "metadata": {},
   "outputs": [
    {
     "data": {
      "image/png": "[encoded data removed]",
      "text/plain": [
       "<Figure size 640x480 with 1 Axes>"
      ]
     },
     "metadata": {},
     "output_type": "display_data"
    }
   ],
   "source": [
    "plt.scatter(Y_train, X_train @ b);"
   ]
  },
  {
   "cell_type": "code",
   "execution_count": 54,
   "metadata": {},
   "outputs": [],
   "source": [
    "b = np.linalg.pinv(X_val.T @ X_val) @ X_val.T @ Y_val \n",
    "k = len(b)-1\n",
    "n = Y_val.shape[0]\n",
    "SSE = np.sum(np.square(Y_val - (X_val@b)))\n",
    "\n",
    "var = SSE/(n-k-1)\n",
    "S = np.sqrt(var)\n",
    "\n",
    "\n",
    "Syy = np.sum(np.square(Y)) - (np.square(np.sum(Y))/n)\n",
    "SSR = Syy - SSE\n",
    "## vi får ett bättre resultat på okänd data än på träningsdatan"
   ]
  },
  {
   "cell_type": "code",
   "execution_count": 55,
   "metadata": {},
   "outputs": [
    {
     "data": {
      "image/png": "[encoded data removed]",
      "text/plain": [
       "<Figure size 640x480 with 1 Axes>"
      ]
     },
     "metadata": {},
     "output_type": "display_data"
    }
   ],
   "source": [
    "plt.scatter(Y_val, X_val @ b);"
   ]
  },
  {
   "cell_type": "code",
   "execution_count": 56,
   "metadata": {},
   "outputs": [
    {
     "data": {
      "text/plain": [
       "0.603799977921849"
      ]
     },
     "execution_count": 56,
     "metadata": {},
     "output_type": "execute_result"
    }
   ],
   "source": [
    "RSE = np.sqrt((1/(n-2))*SSE)\n",
    "RSE\n",
    "## borde bli 0.322416\n",
    "## Detta värdet är +- 301 värden aka hälften av 0.603 "
   ]
  },
  {
   "cell_type": "code",
   "execution_count": 57,
   "metadata": {},
   "outputs": [
    {
     "data": {
      "text/plain": [
       "(0.603799977921849, 0.5812447961170981)"
      ]
     },
     "execution_count": 57,
     "metadata": {},
     "output_type": "execute_result"
    }
   ],
   "source": [
    "\n",
    "# test \n",
    "SSE_test = np.sum(np.square(Y_test - (X_test@b)))\n",
    "RSE_test = np.sqrt((1/(n-2))*SSE_test)\n",
    "RSE, RSE_test\n",
    "# ska bli 0.322415, 0.272413"
   ]
  }
 ],
 "metadata": {
  "kernelspec": {
   "display_name": ".venv",
   "language": "python",
   "name": "python3"
  },
  "language_info": {
   "codemirror_mode": {
    "name": "ipython",
    "version": 3
   },
   "file_extension": ".py",
   "mimetype": "text/x-python",
   "name": "python",
   "nbconvert_exporter": "python",
   "pygments_lexer": "ipython3",
   "version": "3.12.5"
  }
 },
 "nbformat": 4,
 "nbformat_minor": 2
}
