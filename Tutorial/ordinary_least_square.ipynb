{
 "cells": [
  {
   "cell_type": "code",
   "execution_count": 1,
   "metadata": {},
   "outputs": [
    {
     "data": {
      "text/plain": [
       "2.5287218421091273"
      ]
     },
     "execution_count": 1,
     "metadata": {},
     "output_type": "execute_result"
    }
   ],
   "source": [
    "\n",
    "# linear_regression.ipynb\n",
    "import pandas as pd \n",
    "import numpy as np\n",
    "\n",
    "path = \"./house.csv\"\n",
    "df_house = pd.read_csv(path)\n",
    "\n",
    "X = np.array( df_house[[\"sqft\",\"year\",\"rooms\"]] )\n",
    "Y = np.array( df_house[\"price\"] )\n",
    "\n",
    "our_house = np.array([800, 1990, 4])\n",
    "\n",
    "bias = np.ones(X.shape[0])\n",
    "X = np.column_stack([bias, X])\n",
    "\n",
    "\n",
    "def ordinary_least_squared(X, Y):\n",
    "\treturn np.linalg.pinv(X.T @ X) @ X.T @ Y\n",
    "\n",
    "regression = ordinary_least_squared(X, Y)\n",
    "\n",
    "r = regression\n",
    "h = our_house\n",
    "sale_price = r[0] + r[1]*h[0] + r[2]*h[0] + r[3]*h[2] \n",
    "sale_price"
   ]
  }
 ],
 "metadata": {
  "kernelspec": {
   "display_name": ".venv",
   "language": "python",
   "name": "python3"
  },
  "language_info": {
   "codemirror_mode": {
    "name": "ipython",
    "version": 3
   },
   "file_extension": ".py",
   "mimetype": "text/x-python",
   "name": "python",
   "nbconvert_exporter": "python",
   "pygments_lexer": "ipython3",
   "version": "3.12.5"
  }
 },
 "nbformat": 4,
 "nbformat_minor": 2
}
