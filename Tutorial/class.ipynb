{
 "cells": [
  {
   "cell_type": "code",
   "execution_count": 3,
   "metadata": {},
   "outputs": [
    {
     "data": {
      "text/plain": [
       "485"
      ]
     },
     "execution_count": 3,
     "metadata": {},
     "output_type": "execute_result"
    }
   ],
   "source": [
    "class Frukt:\n",
    "    def __init__(self, färg, vikt, pris):\n",
    "        self.färg = färg \n",
    "        self.vikt = vikt\n",
    "        self.pris = pris  \n",
    "        #self.påsvikt = vikt*8+5\n",
    "\n",
    "    @property\n",
    "    def påsvikt(self):\n",
    "        påse = 5 \n",
    "        frukt = self.vikt * 8 \n",
    "        return frukt+påse\n",
    "\n",
    "    \n",
    "    def kilopris(self):\n",
    "        return self.pris * (1000/self.vikt)\n",
    "    \n",
    "\n",
    "    \n",
    "äpple = Frukt(\"röd\", 60, 5)\n",
    "äpple.kilopris()\n",
    "äpple.påsvikt\n"
   ]
  }
 ],
 "metadata": {
  "kernelspec": {
   "display_name": ".venv",
   "language": "python",
   "name": "python3"
  },
  "language_info": {
   "codemirror_mode": {
    "name": "ipython",
    "version": 3
   },
   "file_extension": ".py",
   "mimetype": "text/x-python",
   "name": "python",
   "nbconvert_exporter": "python",
   "pygments_lexer": "ipython3",
   "version": "3.12.5"
  }
 },
 "nbformat": 4,
 "nbformat_minor": 2
}
