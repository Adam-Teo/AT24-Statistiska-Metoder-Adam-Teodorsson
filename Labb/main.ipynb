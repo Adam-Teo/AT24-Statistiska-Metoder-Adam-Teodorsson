{
 "cells": [
  {
   "cell_type": "code",
   "execution_count": 1,
   "metadata": {},
   "outputs": [],
   "source": [
    "# main.ipynb\n",
    "\n",
    "import pandas as pd\n",
    "from LinearRegression import LinearRegression\n",
    "path = \"../Resources/\" "
   ]
  },
  {
   "cell_type": "code",
   "execution_count": 2,
   "metadata": {},
   "outputs": [
    {
     "name": "stdout",
     "output_type": "stream",
     "text": [
      "\n",
      "G\n",
      "1.     Features: 3\n",
      "2.  Sample Size: 198\n",
      "3.     Variance: 0.00631\n",
      "4.  S.Diviation: 0.07943\n",
      "5. Significance: 3.8879169683951874e-246\n",
      "6.    Relevance: 0.99712\n",
      "\n",
      "VG\n",
      "1. Individual Significance\n",
      "Kinematic : pvalue = 2.2799778946075336e-236\n",
      "Geometric : pvalue = 0.0\n",
      "Inertial  : pvalue = 1.9192831125684836e-242\n",
      "\n",
      "2. Pairs of Pearsons\n",
      "Inertial  VS Geometric : 0.9183300309\n",
      "Inertial  VS Kinematic : 0.9686707505\n",
      "Geometric VS Kinematic : 0.8631350761\n",
      "\n",
      "3. Confidence Interval \n",
      "Kinematic: 0.86872 ± 0.01163 | interval:[0.85709 <> 0.88034]\n",
      "Geometric: 3.61042 ± 0.00785 | interval:[3.60257 <> 3.61827]\n",
      "Inertial: -0.75369 ± 0.00938 | interval:[-0.76307 <> -0.74430]\n",
      "\n",
      "4. Confidence Level: 0.997\n",
      "         \n"
     ]
    }
   ],
   "source": [
    "# An instance without the Observer\n",
    "data_set = pd.read_csv(path+\"Small-diameter-flow.csv\") \n",
    "X = data_set.drop(columns=[\"Unnamed: 0\", \"Observer\", \"Flow\"])\n",
    "Y = data_set[[\"Flow\"]]\n",
    "flow = LinearRegression(X.values, Y.values, list(X.columns), Y.columns[0])\n",
    "\n",
    "flow.print_all()\n"
   ]
  },
  {
   "cell_type": "code",
   "execution_count": 3,
   "metadata": {},
   "outputs": [
    {
     "name": "stdout",
     "output_type": "stream",
     "text": [
      "Kinematic : pvalue = 5.730580151466907e-236\n",
      "Geometric : pvalue = 0.0\n",
      "Inertial  : pvalue = 1.1628066959545507e-241\n",
      "Observer  : pvalue = 2.3422411107265474e-44\n",
      "\n"
     ]
    }
   ],
   "source": [
    "# An instance with the Observers\n",
    "data_set = pd.read_csv(path+\"Small-diameter-flow.csv\") \n",
    "X = data_set.drop(columns=[\"Unnamed: 0\", \"Flow\"])\n",
    "Y = data_set[[\"Flow\"]]\n",
    "flow_obs = LinearRegression(X.values, Y.values, list(X.columns), Y.columns[0])\n",
    "\n",
    "#flow_obs.print_all()\n",
    "print(flow_obs.sig_var())\n"
   ]
  },
  {
   "cell_type": "markdown",
   "metadata": {},
   "source": [
    "### 4. Discussion\n",
    "Question: ”Is there an observer bias in the data collected for the small-diameter flow measurements?\"\n",
    "\n",
    "Answer: For there to be an Observer Bias the categorical Observer feature\\\n",
    "needs to be significant.\\\n",
    "To prove significance we need to reject the H0 hypothesis.\\\n",
    "To confidently reject the H0 hypothesis we need to see a P-Value off less\\\n",
    "then 0.05 meaning that there would be less then 5% chance that the\\\n",
    "correlation between the Observer and Flow would be coincidental.\n",
    "\n",
    "We can check the p-value between the Observer and Flow using the\\\n",
    "sig_var method, as was done in the cell above.\\\n",
    "This gives us a p-value for the Observer of 2.3422411107265474e-44,\\\n",
    "which is way less then 0.05 which means that we can, with confidence,\\\n",
    "reject the H0 hypothesis, the Observer feature is significant, the\\\n",
    "correlation is not accidental and therefore there is most likely an Obserber Bias. "
   ]
  },
  {
   "cell_type": "markdown",
   "metadata": {},
   "source": []
  }
 ],
 "metadata": {
  "kernelspec": {
   "display_name": ".venv",
   "language": "python",
   "name": "python3"
  },
  "language_info": {
   "codemirror_mode": {
    "name": "ipython",
    "version": 3
   },
   "file_extension": ".py",
   "mimetype": "text/x-python",
   "name": "python",
   "nbconvert_exporter": "python",
   "pygments_lexer": "ipython3",
   "version": "3.12.5"
  }
 },
 "nbformat": 4,
 "nbformat_minor": 2
}
