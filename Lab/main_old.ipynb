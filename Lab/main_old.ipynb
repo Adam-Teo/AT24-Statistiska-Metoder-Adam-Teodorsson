{
 "cells": [
  {
   "cell_type": "code",
   "execution_count": null,
   "metadata": {},
   "outputs": [
    {
     "data": {
      "text/plain": [
       "556.8252629021872"
      ]
     },
     "execution_count": 179,
     "metadata": {},
     "output_type": "execute_result"
    }
   ],
   "source": [
    "# .py\n",
    "\n",
    "\"\"\"\n",
    "-Answer-\n",
    "En 'Simple Linear Reggression' model har barar en feature \"y = beta_0 + beta_1 * feature_1\"\n",
    "En 'multiple linear regression' model har mer än en feature y = beta_0 + beta_1 * feature_1 + beta_2 * feature_2 ... beta_d * feature_d\n",
    "\n",
    "\n",
    "\n",
    "'d' = dimensions/features/inputs it does not include beta_0\\bias nor the y column\n",
    "'k' i \"Code Along\" är lika med 'd' i labben\n",
    "'n' = number of observation aka rows\n",
    "\n",
    "Dependency Checks : We are allowed to use scipy.stats.pearsonr(...) \n",
    "\n",
    "The labb was wrong it's SSR = Syy - SSE\n",
    "\n",
    "-Questions-\n",
    "I labben så använder vi 'Ordinary Least Squares' metod, finns det en 'Least Squares' metod?\n",
    "\n",
    "\n",
    "Hur plottar jag en regressions linje i från en 'multiple linear regression' model?\n",
    "\n",
    "Med 'simple linear regression' model så \n",
    "1. kör jag den igenom np.linalg.pinv(X.T @ X) @ X.T @ Y  \n",
    "2. Jag får då ut [bias, coeff_1] \n",
    "3. x = np.linspace(0,300)\n",
    "4. bias + (coeff_1 * x) \n",
    "\n",
    "När jag har ex 3 features i min model gör jag då samma sak?\n",
    "1. np.linalg.pinv(X.T @ X) @ X.T @ Y  \n",
    "2. [bias, coeff_1, coeff_2, coeff_3]\n",
    "3. x = np.linspace(0,300)\n",
    "4. bias + ( (coeff_1 * x) + (coeff_2 * x) + (coeff_3 * x) ) / 3\n",
    "\n",
    "Det jag är osäker på är om jag ska summera coeff och dela dessa med antalet \n",
    "\n",
    "\n",
    "\n",
    "Notes To be Removed\n",
    "Statiska för hela är F-distrubutionen\n",
    "Vi omvandlar t-statiska till p värdet\n",
    "statiska för enskilda variabler i VG delen\n",
    "\n",
    "F-distrubutionen : variation av conirnulig gamma-distrubtion\n",
    "\n",
    "F-distrubuionen : det är p värdet du är ute efter och du ska få ett värde mellan 1 och 0 \n",
    "om du får ett värde nära noll så är det väldigt osanlikt att 0 hypotsen är releveant aka\n",
    "p = 0 = featuren är relevant för y värdet\n",
    "\n",
    "\n",
    "\"\"\"\n",
    "\n",
    "\n",
    "\"\"\"\n",
    "Answers G\n",
    "V Create and work towards a git repo\n",
    "X .py-file Should Contain Only: Your LinearRegression Class, numpy and scipy.stats modules.\n",
    "X .ipynb-file : Call the code from the py-file and demonstrat its functionality  \n",
    "X Implement and check the labb data\n",
    "X Cleanup the code\n",
    "V A property d that contains the number of features/parameters/dimensions of the model.\n",
    "  .d\n",
    "V A property n that contains the size of the sample.\n",
    "  .n \n",
    "X A function or method to calculate the variance.\n",
    "  .var() \n",
    "  (?) Check that the formula is correct\n",
    "X A function or method to calculate the standard deviation\n",
    "  .std()\n",
    "  (?) Check that it's correct\n",
    "X A function or method that reports the significance of the regression\n",
    "  (?) Don't know what this is \n",
    "X A function or method that reports the relevance of the regression (R2)\n",
    "  .R2()\n",
    "  (?) Can I display the value or do I need to add some text as well\n",
    "\n",
    "Answer VG \n",
    "X Significance tests on individual variables, in particular categorical variables.\n",
    "  (?) Its not .r() because thats the next task\n",
    "X A function or method that calculates the Pearson number between all pairs of parameters.\n",
    " .r()\n",
    " (X) Refine the output\n",
    " (?) Are we alowed to use pearsonr from scipy.stas\n",
    "X Confidence intervals on individual parameters.\n",
    "  .p_beta\n",
    "  (?) Check that this is correct\n",
    "X A property confidence level that stores the selected confidence level.  \n",
    "  .rsq() \n",
    "  (?) Double check so its correct\n",
    "X Examine if Ithere an observer bias in the data collected for the small-diameter flow measurements\n",
    "\"\"\"\n",
    "\n",
    "import pandas as pd \n",
    "import numpy as np \n",
    "from scipy.stats import pearsonr, f, t \n",
    "\n",
    "path = \"../Resources/Advertising.csv\"\n",
    "adv = pd.read_csv(path)\n",
    "adv.drop(columns=\"Unnamed: 0\", inplace=True)\n",
    "class LinearRegression():\n",
    "    def __init__(self, data, y):\n",
    "        self.data = data \n",
    "        self.y = y \n",
    "        self._X = None\n",
    "        self._Y = None\n",
    "        self._column_names = None\n",
    "\n",
    "        # d = dimensions/features/inputs it does not include beta_0\\bias nor the y column\n",
    "        self.d = data.shape[1]-1\n",
    "        # I assume n is simply rows aka observations\n",
    "        self.n = data.shape[0]\n",
    "    \n",
    "    \n",
    "    # Adds a bias column consiting of ones to X\n",
    "    # Turn: X =         feature_1, feature_2, ..., feature_d \n",
    "    # Into: X = bias_0, feature_1, feature_2, ..., feature_d\n",
    "    @property\n",
    "    def X(self):\n",
    "        # Column stack simply add anothoer column to a set of columns\n",
    "        # np.ones creates a new column that consits of ones, the argument equals the number or rows in the column\n",
    "        X = self.data.drop(columns=[self.y])\n",
    "        X = np.array(X)\n",
    "        X = np.column_stack([np.ones(X.shape[0]), X])\n",
    "        return X\n",
    "   \n",
    "    @property\n",
    "    def Y(self):\n",
    "        Y = self.data[self.y] \n",
    "        Y = np.array(Y)\n",
    "        return Y\n",
    "    \n",
    "    @property\n",
    "    def column_names(self):\n",
    "        X = list(self.data.drop(columns=[self.y]).columns)\n",
    "        Y = self.y\n",
    "        column_names = { \"X\":X, \"Y\":Y, }\n",
    "        return column_names\n",
    "\n",
    "    # Detta är vår \"Line of Regression\"\n",
    "    # [0]=m  [1]=k  \n",
    "    # Y-hat = B_0 + B_1 * x (Simple Regression)\n",
    "    # Turn: (bias_0, feature_1, feature_2, ..., feature_d) and (Y)\n",
    "    # Into: [true_bias, coefficient_1, coefficient_2, ..., coefficient_d ]\n",
    "    #\n",
    "    # How to plot the \"Line of Regression\" (simple linear regression) \n",
    "    # y_hat is the aproximation of y \n",
    "    # 1. b = np.linalg.pinv(X.T @ X) @ X.T @ Y  \n",
    "    # 2. x = np.linspace(0,300) \n",
    "    # 3. y_hat = b[0] + b[1]*x\n",
    "    #\n",
    "    # How to plot the \"Line of Regression\" (multiple linear regression) \n",
    "    # y_hat is the aproximation of y \n",
    "    # 1. b = np.linalg.pinv(X.T @ X) @ X.T @ Y  \n",
    "    # 2. x = np.linspace(0,300) \n",
    "    # 3. y_hat = b[0] + (b[1]*x + b[2]*x + ... + b[d]*x)/d    (?) not 100% sure this is correct\n",
    "    #\n",
    "    # Note \n",
    "    # We use linespace to get a continues line \n",
    "    # if we had a new observation aka row without y and we wanted to use our \n",
    "    # model to predict its y value then x = (x_1, x_2, ..., x_d), basically \n",
    "    # we would replace step three to get y_hat for that perticular row\n",
    "    \n",
    "    def ordinary_least_square(self):\n",
    "        # .pinv == ^{-1} == inversen \n",
    "        X = self.X\n",
    "        Y = self.Y\n",
    "        return np.linalg.pinv(X.T @ X) @ X.T @ Y\n",
    "        \n",
    "        \n",
    "\n",
    "    \n",
    "    def significance_of_regression(self):\n",
    "        # 1. Set Up Hypotheses\n",
    "        # Null Hypothesis (H0): There is no relationship between X and Y\n",
    "        # Alternative Hypothesis (Ha): There is a relationship between X and Y\n",
    "\n",
    "        # 2. Calculate the F-Statistic \n",
    "\n",
    "        # 3. Determine the Degrees of Freedom\n",
    "        pass \n",
    "    def relevance_of_regression(self):\n",
    "        pass\n",
    "\n",
    "\n",
    "\n",
    "    # Residual Sum of Square Erros (SSE or RSS)\n",
    "    # Detta är det värde vi vill få så lågt som möjligt\n",
    "    # hade vi fått det till 0 så hade alla feature befunnit sig \n",
    "    # på vår \"line of regression\" och alla kofficienter hade varit = 1.   \n",
    "    def SSE(self):\n",
    "        b = self.ordinary_least_square()\n",
    "        X = self.X \n",
    "        Y = self.Y \n",
    "        return np.sum(np.square(Y - (X @ b)))\n",
    "  \n",
    "\n",
    "    # Den totala variansen i y \n",
    "    # y - y_hat\n",
    "    # Så fel marginalen i mellan det sanna y värdet och det \n",
    "    # y värde vi får fram med hjälp av \"ordinary_least_squared\" \n",
    "    def Syy(self):\n",
    "        n = self.Y.shape[0]\n",
    "        Y = self.Y \n",
    "        return np.sum(np.square(self.Y)) - (np.square(np.sum(self.Y))/n)    \n",
    "\n",
    "    # Confidence(?)\n",
    "    def con(self):\n",
    "        d = self.d\n",
    "        ssr = self.ssr()\n",
    "        var = self.var()\n",
    "        # ssr = Syy - SSE, d=dimensions,  var = Sigma Hat Squared\n",
    "        return (ssr/d)/var\n",
    "\n",
    "\n",
    "\n",
    "    # Significance(?)\n",
    "    def ssr(self):\n",
    "        return self.Syy() - self.SSE()\n",
    "\n",
    "    # standard deviation aka Sigma (standard feel)\n",
    "    # note even sure that this is correct because the var is \n",
    "    # different depending on if it's a simple linear equation or one \n",
    "    # with mor then one feature\n",
    "    # note this is not needed for the Lab\n",
    "    def std(self):\n",
    "        # The fromula according to the CAL is sigma^2/2 \n",
    "        return self.var()/2 \n",
    "        # But in the Lab it's known only as sigma so shouldn't it then be \n",
    "        # the square root of variance  \n",
    "        #return np.sqrt(self.var())\n",
    "\n",
    "    # variance aka Sigma Hat Squared\n",
    "    # Note that for simple regression the formula is slightly different \n",
    "    # as you don't get the hat aka it's not an aproximation\n",
    "\n",
    "    # Sigma Squared\n",
    "    def S(self):\n",
    "        # Stora S = sigma hat kvadrat\n",
    "        # So this is probably std, std should be variance squared not variance halved\n",
    "        return np.sqrt(self.var())\n",
    "\n",
    "\n",
    "    def var(self):\n",
    "        # Maybe unnessary to have these in two places\n",
    "        # Note that you maye need one more step S = np.sqrt(var)\n",
    "        d = self.d\n",
    "        n = self.n\n",
    "        return self.SSE()/(n-d-1)\n",
    "    \n",
    "\n",
    "\n",
    "    def beta_statics_all(self):\n",
    "        c = self.c \n",
    "        beta = self.X\n",
    "        S = self.S()\n",
    "        # beta_statistic = beta[feature] / (S*np.sqrt(self.c()[feature, feature]))\n",
    "        # the original focus on only one feature, I don't know how you make it work \n",
    "        # on all features at once.\n",
    "        return beta / (S*np.sqrt(self.c()))\n",
    "        \n",
    "\n",
    "    def r(self):\n",
    "        # V1\n",
    "        # return pearsonr(self.X.T[column], self.Y)\n",
    "        \n",
    "        # V2\n",
    "        # result = \"\"\n",
    "        # for idx in range(len(cnx)):\n",
    "        #     p = pearsonr(self.X.T[idx], self.Y)      \n",
    "        #     col = cnx[idx]\n",
    "        #     result += f\"{col:>10} : Statistics = {p[0]:<20} pvalue = {p[1]}\\n\"\n",
    "        \n",
    "        # V3 \n",
    "        # Note basicaly this prodcuses a scatter matrix, I could refine it so \n",
    "        # we don't get doubleets as the formula is let and right hand agnostic\n",
    "        # also I could print out a little note explaining the two values rather\n",
    "        # then printing out them vs them self.\n",
    "        result = \"\"\n",
    "        X = self.X[:,1:]\n",
    "        cnx = self.column_names[\"X\"]\n",
    "        cny = self.column_names[\"Y\"]\n",
    "        for idx in range(len(cnx)):\n",
    "            col_a = cnx[idx]\n",
    "            p = pearsonr(X.T[idx] , self.Y) \n",
    "            result += f\"{col_a:>10} VS {cny:<10} : Statistics = {p[0]:<20} pvalue = {p[1]}\\n\"\n",
    "            for idy in range(len(cnx)):\n",
    "                p = pearsonr(X.T[idx], X.T[idy])      \n",
    "                col_b = cnx[idy]\n",
    "                result += f\"{col_a:>10} VS {col_b:<10} : Statistics = {p[0]:<20} pvalue = {p[1]}\\n\"\n",
    "         \n",
    "\n",
    "        \n",
    "        return result\n",
    "\n",
    "    #  coefficient of multiple determination\n",
    "    def R2(self):\n",
    "        return self.ssr()/self.Syy()\n",
    "    \n",
    "\n",
    "    # is c the same as c_{ii} ?\n",
    "    # Variance/CoVariance Matrix\n",
    "    def c(self):\n",
    "        X = self.X\n",
    "        # It looks like this produces som form of scatter matrix\n",
    "        return np.linalg.pinv(X.T @ X) * self.var()\n",
    "\n",
    "    # I believe this is 'A confidence interval for the individual parameters (features) of the model is given by'\n",
    "    def p_beta(self, feature):\n",
    "        # You select which feature you want to investigate\n",
    "        # note that beta_0 is included aka the bias\n",
    "        # note I could make it so that it checks all features\n",
    "        beta = self.ordinary_least_square()\n",
    "        S = self.S()\n",
    "        # Remeber c is a matrix\n",
    "        # Beta_statistics should maybe be it's own function \n",
    "        beta_statistic = beta[feature] / (S*np.sqrt(self.c()[feature, feature]))\n",
    "\n",
    "        k = self.d+1 # why is this +1\n",
    "        n = self.n \n",
    "        # I belive that there is an error in the lab description\n",
    "        # the right hand should be t.sf not t.cdf  \n",
    "        p_beta = 2*min(t.cdf(beta_statistic, n-k-1), t.sf(beta_statistic, n-k-1))\n",
    "        return p_beta \n",
    "    \n",
    "    # This number helps us determine which 'Confidence Level' to use\n",
    "    # in the case of advertisment the rsq is 0.89... meaning almost 90%\n",
    "    # so we should set our Confidence Level to 90%\n",
    "    def rsq(self):\n",
    "        return self.ssr()/self.Syy()\n",
    "\n",
    "    # sig statistics \n",
    "    def sis (self):\n",
    "        d = self.d\n",
    "        return (self.ssr()/d)/self.S() \n",
    "\n",
    "    # p significance\n",
    "    def p_sig(self):\n",
    "        n = self.n \n",
    "        d = self.d\n",
    "\n",
    "        return f.sf(self.sis(), d, n-d-1)\n",
    "\n",
    "\n",
    "\n",
    "lr = LinearRegression(X=adv[[\"TV\",\"radio\",\"newspaper\"]],Y=adv[[\"sales\"]])\n",
    "\n",
    "lr = LinearRegression(adv,\"sales\")\n",
    "\n",
    "b = lr.ordinary_least_square()\n",
    "#X = lr.X\n",
    "SSE = lr.SSE()\n",
    "#r = lr.r()\n",
    "#print(r)\n",
    "Syy = lr.Syy()\n",
    "var = lr.var()\n",
    "std = lr.std()\n",
    "ssr = lr.ssr()\n",
    "con = lr.con()\n",
    "R2 = lr.R2()\n",
    "c = lr.c()\n",
    "p_beta_newspaper = lr.p_beta(3)\n",
    "#beta_statics_all = lr.beta_statics_all()\n",
    "rsq = lr.rsq()\n",
    "sis = lr.sis() \n",
    "p_sig = lr.p_sig()\n",
    "\n",
    "\n",
    "# print(f\"d = {lr.d}\")\n",
    "# print(f\"n = {lr.n}\")\n",
    "#print(lr.r())\n",
    "\n",
    "b\n",
    "ssr\n",
    "con\n",
    "type(lr.X)\n",
    "\n",
    "#X = np.array(adv.drop(columns=[\"sales\"]))\n",
    "#Y = np.array(adv[\"sales\"])\n",
    "#X\n",
    "lr.sis()\n",
    "lr.d\n",
    "lr.column_names[\"X\"]\n",
    "Syy\n",
    "lr.Y.mean()\n",
    "y=np.array([1,3,8])\n",
    "y.mean()\n",
    "var\n",
    "SSE"
   ]
  },
  {
   "cell_type": "code",
   "execution_count": 3,
   "metadata": {},
   "outputs": [
    {
     "data": {
      "text/plain": [
       "<matplotlib.collections.PathCollection at 0x16734e53290>"
      ]
     },
     "execution_count": 3,
     "metadata": {},
     "output_type": "execute_result"
    },
    {
     "data": {
      "image/png": "[encoded data removed]",
      "text/plain": [
       "<Figure size 640x480 with 1 Axes>"
      ]
     },
     "metadata": {},
     "output_type": "display_data"
    }
   ],
   "source": [
    "import matplotlib.pyplot as plt \n",
    "plt.scatter(adv[\"TV\"],adv[\"sales\"] )\n",
    "plt.scatter(adv[\"radio\"],adv[\"sales\"] )\n",
    "plt.scatter(adv[\"newspaper\"],adv[\"sales\"] )\n",
    "#x = np.linspace(0,300)\n",
    "#y_hat = b[0] + b[1]*x\n",
    "#plt.plot(x, y_hat, c=\"red\")"
   ]
  },
  {
   "cell_type": "code",
   "execution_count": 4,
   "metadata": {},
   "outputs": [
    {
     "data": {
      "image/png": "[encoded data removed]",
      "text/plain": [
       "<Figure size 640x480 with 1 Axes>"
      ]
     },
     "metadata": {},
     "output_type": "display_data"
    }
   ],
   "source": [
    "import matplotlib.pyplot as plt \n",
    "\n",
    "x = np.linspace(0,300)\n",
    "y_hat = b[0] + (b[1]*x + b[2]*x + b[3]*x)/3\n",
    "plt.plot(x, y_hat, c=\"red\")\n",
    "li = [\"TV\", \"radio\", \"newspaper\"]\n",
    "for i in range(3):\n",
    "    plt.scatter( adv[li[i]],adv[\"sales\"] )\n",
    "    y_hat = b[0] + b[i+1]*x\n",
    "    plt.plot(x, y_hat)"
   ]
  },
  {
   "cell_type": "code",
   "execution_count": 8,
   "metadata": {},
   "outputs": [
    {
     "data": {
      "image/png": "[encoded data removed]",
      "text/plain": [
       "<Figure size 640x480 with 1 Axes>"
      ]
     },
     "metadata": {},
     "output_type": "display_data"
    }
   ],
   "source": [
    "import matplotlib.pyplot as plt \n",
    "\n",
    "x = np.linspace(0,300)\n",
    "y_hat = b[0] + (b[1]*x + b[2]*x + b[3]*x)/3\n",
    "plt.plot(x, y_hat, c=\"red\")\n",
    "li = [\"TV\", \"radio\", \"newspaper\"]\n",
    "for i in range(3):\n",
    "    plt.scatter( adv[li[i]],adv[\"sales\"] )\n",
    "    y_hat = b[0] + b[i+1]*x\n",
    "    plt.plot(x, y_hat)"
   ]
  },
  {
   "cell_type": "code",
   "execution_count": 35,
   "metadata": {},
   "outputs": [
    {
     "data": {
      "text/plain": [
       "14"
      ]
     },
     "execution_count": 35,
     "metadata": {},
     "output_type": "execute_result"
    }
   ],
   "source": [
    "coef = np.array([1,2,3])\n",
    "feat = np.array([1,2,3])\n",
    "coef @ feat"
   ]
  },
  {
   "cell_type": "code",
   "execution_count": 219,
   "metadata": {},
   "outputs": [
    {
     "name": "stdout",
     "output_type": "stream",
     "text": [
      "self.health=35 | self.damage=6 | self.speed=12 \n"
     ]
    },
    {
     "data": {
      "text/plain": [
       "35"
      ]
     },
     "execution_count": 219,
     "metadata": {},
     "output_type": "execute_result"
    }
   ],
   "source": [
    "class Zerglin:\n",
    "    def __init__(self, arg): self.arg=arg \n",
    "\n",
    "    \n",
    "    @property\n",
    "    def health(self): \n",
    "        return self.arg[0]\n",
    "    @property\n",
    "    def damage(self): \n",
    "        return self.arg[1]\n",
    "    @property\n",
    "    def speed(self): \n",
    "        return self.arg[2] \n",
    "\n",
    "    def spawn(self):\n",
    "        print(f\"{self.health=} | {self.damage=} | {self.speed=} \")\n",
    "\n",
    "z_alpha = Zerglin((35, 6, 12))\n",
    "\n",
    "z_alpha.spawn()\n",
    "z_alpha.health"
   ]
  },
  {
   "cell_type": "code",
   "execution_count": 155,
   "metadata": {},
   "outputs": [
    {
     "data": {
      "text/plain": [
       "2.0"
      ]
     },
     "execution_count": 155,
     "metadata": {},
     "output_type": "execute_result"
    }
   ],
   "source": [
    "\n",
    "li=[1,2,3]\n",
    "np.mean([0,1,5])"
   ]
  },
  {
   "cell_type": "code",
   "execution_count": 157,
   "metadata": {},
   "outputs": [
    {
     "data": {
      "text/plain": [
       "2532"
      ]
     },
     "execution_count": 157,
     "metadata": {},
     "output_type": "execute_result"
    }
   ],
   "source": [
    "\n",
    "reg = regression = [2, 3, 5, 2]\n",
    "x =[10, 100, 1000]\n",
    "\n",
    "sum(coef*feat for coef, feat in zip(reg[1:],x))+reg[0]"
   ]
  },
  {
   "cell_type": "code",
   "execution_count": 182,
   "metadata": {},
   "outputs": [
    {
     "data": {
      "text/plain": [
       "array([2, 5, 8])"
      ]
     },
     "execution_count": 182,
     "metadata": {},
     "output_type": "execute_result"
    }
   ],
   "source": [
    "# TSS \n",
    "Y = [1,2,3,4,5,6]\n",
    "sum((y-np.mean(Y))**2 for y in Y )\n",
    "X = np.array([[1, 2, 3],[4, 5, 6],[7, 8, 9]])\n",
    "X.shape\n",
    "X[:,1]"
   ]
  },
  {
   "cell_type": "code",
   "execution_count": 216,
   "metadata": {},
   "outputs": [
    {
     "data": {
      "text/plain": [
       "24.96"
      ]
     },
     "execution_count": 216,
     "metadata": {},
     "output_type": "execute_result"
    }
   ],
   "source": [
    "Y = lr.Y\n",
    "Yl = Y.astype(int)\n",
    "Yl = list(Yl)\n",
    "TSS = sum((y-np.mean(Y))**2 for y in Y )\n",
    "#var(Yl)\n",
    "#TSS\n",
    "type(Yl[2])\n",
    "Yl\n",
    "Yli = [22,10,9,18,12]\n",
    "\n",
    "np.var(Yli)"
   ]
  },
  {
   "cell_type": "code",
   "execution_count": 218,
   "metadata": {},
   "outputs": [
    {
     "data": {
      "text/plain": [
       "(200, 4)"
      ]
     },
     "execution_count": 218,
     "metadata": {},
     "output_type": "execute_result"
    }
   ],
   "source": [
    "lr.X\n",
    "lr.X.shape"
   ]
  },
  {
   "cell_type": "code",
   "execution_count": 251,
   "metadata": {},
   "outputs": [
    {
     "data": {
      "text/plain": [
       "array([2, 5, 8])"
      ]
     },
     "execution_count": 251,
     "metadata": {},
     "output_type": "execute_result"
    }
   ],
   "source": [
    "x = np.array([[1, 2, 3],[4,5,6],[7, 8, 9]])\n",
    "pearsonr(x.T[0], x.T[1])\n",
    "x[:,1]"
   ]
  },
  {
   "cell_type": "code",
   "execution_count": 308,
   "metadata": {},
   "outputs": [
    {
     "name": "stdout",
     "output_type": "stream",
     "text": [
      "2.8409452188887094\n",
      "2.8409452188887103\n",
      "200 200\n"
     ]
    }
   ],
   "source": [
    "# SSE\n",
    "b = lr.ordinary_least_square()\n",
    "Y_hat = (lr.X[:,1:] @ b[1:])+b[0] \n",
    "#+ b[0]\n",
    "#Y_hat.shape\n",
    "n = Y.shape[0]\n",
    "d = 3 \n",
    "Y = lr.Y\n",
    "SSE = sum((y-y_hat)**2 for y, y_hat in zip(Y,Y_hat))\n",
    "print( SSE/(len(Y)-d-1))\n",
    "print( np.var(Y-Y_hat, ddof=d+1) )\n",
    "print(n, len(Y))"
   ]
  },
  {
   "cell_type": "code",
   "execution_count": 266,
   "metadata": {},
   "outputs": [
    {
     "data": {
      "text/plain": [
       "2.938889369458172"
      ]
     },
     "execution_count": 266,
     "metadata": {},
     "output_type": "execute_result"
    }
   ],
   "source": [
    "b = lr.ordinary_least_square()\n",
    "b0=b[0]\n",
    "X0 = np.array([0,0,0])\n",
    "lr.X[0,1:]@b[1:]+b0\n",
    "X0 @ b[1:]+b0\n",
    "b0"
   ]
  },
  {
   "cell_type": "code",
   "execution_count": null,
   "metadata": {},
   "outputs": [],
   "source": [
    "#SSE"
   ]
  },
  {
   "cell_type": "code",
   "execution_count": 358,
   "metadata": {},
   "outputs": [
    {
     "name": "stdout",
     "output_type": "stream",
     "text": [
      "10.0\n"
     ]
    },
    {
     "data": {
      "text/plain": [
       "PearsonRResult(statistic=0.7822244248616067, pvalue=1.4673897001946062e-42)"
      ]
     },
     "execution_count": 358,
     "metadata": {},
     "output_type": "execute_result"
    }
   ],
   "source": [
    "import scipy\n",
    "# Covariance \n",
    "Xa = [1,2,3,4,5]\n",
    "Xb = [1,2,3,4,5]\n",
    "def covariance(Xa, Xb):\n",
    "    mXa = np.mean(Xa)\n",
    "    mXb = np.mean(Xb)\n",
    "    n = len(Xa)\n",
    "    #covariance = sum( (Xa[i] - mXa) * (Xb[i] - mXb)  for i in range(n))\n",
    "    covariance = sum( (Xai - mXa) * (Xbi - mXb)  for Xai, Xbi in zip(Xa, Xb))\n",
    "    return covariance\n",
    "\n",
    "print( covariance(Xa, Xb) )\n",
    "\n",
    "\n",
    "\n",
    "\n",
    "# pearsonsnr using np.cov and var... doesnt work\n",
    "# np.cov(Xa,Xb)/np.sqrt(np.var(Xa)*np.var(Xb))\n",
    "\n",
    "#scipy.stats.pearsonr(Xa,Xb)\n",
    "\n",
    "scipy.stats.pearsonr(adv['TV'],adv[\"sales\"])\n",
    "# import pandas as pd\n",
    "\n",
    "# data_set = pd.DataFrame([[1,2],[3,4]], columns=[\"sales\",\"advertising\"] )\n",
    "# data_set[\"advertising\"]"
   ]
  },
  {
   "cell_type": "code",
   "execution_count": 379,
   "metadata": {},
   "outputs": [
    {
     "data": {
      "text/plain": [
       "5417.14875"
      ]
     },
     "execution_count": 379,
     "metadata": {},
     "output_type": "execute_result"
    }
   ],
   "source": [
    "\n",
    "# np.sum(np.square(self.Y)) - (np.square(np.sum(self.Y))/n)  \n",
    "\n",
    "#(np.sum(np.square(self.Y)) - (np.square(np.sum(self.Y))) /n  \n",
    "\n",
    "Y = lr.Y \n",
    "n = Y.shape[0]\n",
    "\n",
    "#(n*sum( y**2 for y in Y) - sum(Y)**2)/n\n",
    "np.sum(np.square(Y)) - (np.square(np.sum(Y))/n)\n",
    "#lr.Syy()\n",
    "u=Y.mean()\n",
    "sum( (y-u)**2 for y in Y )\n"
   ]
  },
  {
   "cell_type": "code",
   "execution_count": 382,
   "metadata": {},
   "outputs": [
    {
     "name": "stdout",
     "output_type": "stream",
     "text": [
      "Syy: 5417.148749999997 | 5417.148750000798 \n",
      "SEE: 556.8252629021871 | 556.8252629013859 \n",
      "SSR: 4860.323487098611 | 4860.323487097809 \n"
     ]
    }
   ],
   "source": [
    "Y = lr.Y\n",
    "#Syy\n",
    "Syy = sum((y-np.mean(Y))**2 for y in Y ) \n",
    "#SSE\n",
    "SSE = sum((y-y_hat)**2 for y, y_hat in zip(Y,Y_hat))\n",
    "#SSR\n",
    "SSR = sum((y_hat-np.mean(Y))**2 for y_hat in Y_hat)\n",
    "print(f\"Syy: {Syy} | {SSR+SSE} \")\n",
    "print(f\"SEE: {SSE} | {Syy-SSR} \")\n",
    "print(f\"SSR: {SSR} | {Syy-SSE} \")\n"
   ]
  },
  {
   "cell_type": "code",
   "execution_count": 389,
   "metadata": {},
   "outputs": [
    {
     "name": "stdout",
     "output_type": "stream",
     "text": [
      "[ 2.93888937e+00  4.57646455e-02  1.88530017e-01 -1.03749304e-03]\n",
      "[ 2.93888937e+00  4.57646455e-02  1.88530017e-01 -1.03749304e-03]\n",
      "[ 2.93888937e+00  4.57646455e-02  1.88530017e-01 -1.03749304e-03]\n",
      "[ 2.93888937e+00  4.57646455e-02  1.88530017e-01 -1.03749304e-03]\n"
     ]
    }
   ],
   "source": [
    "\n",
    "X_train = lr.X \n",
    "Y_train = lr.Y\n",
    "X = lr.X \n",
    "Y = lr.Y\n",
    "b = np.linalg.pinv(X_train.T @ X_train) @ X_train.T @ Y_train\n",
    "bb = np.linalg.pinv(X.T @ X) @ X.T @ Y\n",
    "bbb = np.dot((np.linalg.inv(np.dot(X.T,X))), np.dot(X.T,Y)) \n",
    "print(b)\n",
    "print(bb)\n",
    "print(bbb)\n",
    "print(lr.ordinary_least_square())\n"
   ]
  },
  {
   "cell_type": "code",
   "execution_count": 507,
   "metadata": {},
   "outputs": [
    {
     "data": {
      "text/plain": [
       "[array([   5.59016936, -106.96302838,  -52.20583811,  -71.72164865]),\n",
       " array([ -1.66563775,  19.4650979 , -40.60932221, -47.51096911]),\n",
       " array([  -3.3490092 , -167.29237443,   12.9892384 ,  -26.5113264 ]),\n",
       " array([ 0.02531933,  1.07708253,  0.14589357, -0.10484337])]"
      ]
     },
     "execution_count": 507,
     "metadata": {},
     "output_type": "execute_result"
    }
   ],
   "source": [
    "d = lr.d\n",
    "n = lr.n\n",
    "b = lr.ordinary_least_square()\n",
    "X = lr.X \n",
    "# Check if SSE is correct\n",
    "SSE = lr.SSE()\n",
    "sigma_squared = SSE / (n-d-1)\n",
    "sigma = np.sqrt(sigma_squared)  \n",
    "c = np.linalg.pinv(X.T@X)*sigma_squared\n",
    "\n",
    "\n",
    "def sqrt_polarity(n): \n",
    "    if n < 0: \n",
    "        n=abs(n) \n",
    "        n=np.sqrt(n)\n",
    "        return n*-1 \n",
    "    else:  \n",
    "        return np.sqrt(n)\n",
    "\n",
    "#[ [b[i]/(sigma * sqrt_polarity(c[i,j])) for j in range(len(c[i]))] for i in range(len(c))]\n",
    "[ b[i]/[(sigma * sqrt_polarity(c[i,j])) for j in range(len(c[i]))] for i in range(len(c))]"
   ]
  },
  {
   "cell_type": "code",
   "execution_count": 534,
   "metadata": {},
   "outputs": [
    {
     "data": {
      "text/plain": [
       "6.373276981705402e-117"
      ]
     },
     "execution_count": 534,
     "metadata": {},
     "output_type": "execute_result"
    }
   ],
   "source": [
    "d = lr.d \n",
    "n = lr.n \n",
    "b = lr.ordinary_least_square()\n",
    "Y = lr.Y \n",
    "X = lr.X \n",
    "\n",
    "Y_hat = b[0] + X[:,1:] @ b[1:]\n",
    "SSE = np.sum(np.square(Y - Y_hat))\n",
    "var = SSE / (n-d-1) \n",
    "\n",
    "# Sigma aka Standard Diviation\n",
    "S = np.sqrt(var) \n",
    "\n",
    "sig_statistic = (SSR/d)/S\n",
    "p_significance = scipy.stats.f.sf(sig_statistic, d, n-d-1)\n",
    "p_significance"
   ]
  },
  {
   "cell_type": "code",
   "execution_count": 439,
   "metadata": {},
   "outputs": [
    {
     "data": {
      "text/plain": [
       "0.8972106381791"
      ]
     },
     "execution_count": 439,
     "metadata": {},
     "output_type": "execute_result"
    }
   ],
   "source": [
    "SSR/Syy"
   ]
  },
  {
   "cell_type": "code",
   "execution_count": 432,
   "metadata": {},
   "outputs": [
    {
     "name": "stdout",
     "output_type": "stream",
     "text": [
      "5.230615367355176\n",
      "1.685510373414744\n"
     ]
    },
    {
     "data": {
      "text/plain": [
       "array([ 13.0225, 133.02  ,   9.2415,  16.5315])"
      ]
     },
     "execution_count": 432,
     "metadata": {},
     "output_type": "execute_result"
    }
   ],
   "source": [
    "# Standard Variance\n",
    "SSE\n",
    "print(np.std(lr.Y, ddof=d-1))\n",
    "print((SSE/(n-d-1))**0.5)\n",
    "#σ = √[ Σ(xᵢ - μ)² / N\n",
    "X=lr.X \n",
    "Y_mean = lr.Y.mean() \n",
    "n = lr.n \n",
    "np.sqrt( sum(x-Y_mean for x in X)**2 )/n  "
   ]
  },
  {
   "cell_type": "code",
   "execution_count": 442,
   "metadata": {},
   "outputs": [],
   "source": [
    "#lr.R2()\n",
    "#adv.boxplot()"
   ]
  },
  {
   "cell_type": "code",
   "execution_count": 448,
   "metadata": {},
   "outputs": [
    {
     "ename": "TypeError",
     "evalue": "std() missing 1 required positional argument: 'a'",
     "output_type": "error",
     "traceback": [
      "\u001b[1;31m---------------------------------------------------------------------------\u001b[0m",
      "\u001b[1;31mTypeError\u001b[0m                                 Traceback (most recent call last)",
      "Cell \u001b[1;32mIn[448], line 2\u001b[0m\n\u001b[0;32m      1\u001b[0m lr\u001b[38;5;241m.\u001b[39mstd()\n\u001b[1;32m----> 2\u001b[0m \u001b[43mnp\u001b[49m\u001b[38;5;241;43m.\u001b[39;49m\u001b[43mstd\u001b[49m\u001b[43m(\u001b[49m\u001b[43m)\u001b[49m \n",
      "\u001b[1;31mTypeError\u001b[0m: std() missing 1 required positional argument: 'a'"
     ]
    }
   ],
   "source": [
    "lr.std()\n",
    "np.std() "
   ]
  },
  {
   "cell_type": "code",
   "execution_count": 454,
   "metadata": {},
   "outputs": [
    {
     "name": "stdout",
     "output_type": "stream",
     "text": [
      "6.373276981801425e-117\n"
     ]
    },
    {
     "data": {
      "text/plain": [
       "'        TV VS sales      : Statistics = 0.7822244248616067   pvalue = 1.4673897001946062e-42\\n        TV VS TV         : Statistics = 1.0                  pvalue = 0.0\\n        TV VS radio      : Statistics = 0.054808664465830145 pvalue = 0.440806063788431\\n        TV VS newspaper  : Statistics = 0.05664787496505704  pvalue = 0.4256017578819632\\n     radio VS sales      : Statistics = 0.5762225745710552   pvalue = 4.354966001766852e-19\\n     radio VS TV         : Statistics = 0.054808664465830145 pvalue = 0.440806063788431\\n     radio VS radio      : Statistics = 1.0                  pvalue = 0.0\\n     radio VS newspaper  : Statistics = 0.35410375076117545  pvalue = 2.688835078719009e-07\\n newspaper VS sales      : Statistics = 0.22829902637616545  pvalue = 0.0011481958688882026\\n newspaper VS TV         : Statistics = 0.05664787496505704  pvalue = 0.4256017578819632\\n newspaper VS radio      : Statistics = 0.35410375076117545  pvalue = 2.688835078719009e-07\\n newspaper VS newspaper  : Statistics = 1.0                  pvalue = 0.0\\n'"
      ]
     },
     "execution_count": 454,
     "metadata": {},
     "output_type": "execute_result"
    }
   ],
   "source": [
    "#adv.corr()\n",
    "\n",
    "\n",
    "print( lr.p_sig() )\n",
    "lr.r()"
   ]
  },
  {
   "cell_type": "code",
   "execution_count": 494,
   "metadata": {},
   "outputs": [
    {
     "data": {
      "text/plain": [
       "array([-2.55979314,  0.86871519,  3.61041818, -0.75368772])"
      ]
     },
     "execution_count": 494,
     "metadata": {},
     "output_type": "execute_result"
    }
   ],
   "source": [
    "path = \"../Resources/\"\n",
    "sdf = pd.read_csv(path+\"Small-diameter-flow.csv\")\n",
    "Y = sdf[\"Flow\"]\n",
    "\n",
    "XA = sdf.drop(columns=[\"Unnamed: 0\",\"Flow\"]) \n",
    "XB = sdf.drop(columns=[\"Unnamed: 0\",\"Flow\", \"Observer\"]) \n",
    "\n",
    "\n",
    "XA \n",
    "XB\n",
    "XAC = np.column_stack([np.ones(XA.shape[0]), XA])\n",
    "XBC = np.column_stack([np.ones(XB.shape[0]), XB])\n",
    "bA = np.linalg.pinv(XAC.T @ XAC) @ XAC.T @ Y # Bias adn with observer\n",
    "bB = np.linalg.pinv(XBC.T @ XBC) @ XBC.T @ Y # Bias and no observer\n",
    "\n",
    "\n",
    "bB"
   ]
  },
  {
   "cell_type": "code",
   "execution_count": 488,
   "metadata": {},
   "outputs": [
    {
     "name": "stderr",
     "output_type": "stream",
     "text": [
      "C:\\Users\\adamt\\AppData\\Local\\Temp\\ipykernel_21704\\991996897.py:1: RuntimeWarning: invalid value encountered in sqrt\n",
      "  np.sqrt(-1.500)\n"
     ]
    },
    {
     "data": {
      "text/plain": [
       "nan"
      ]
     },
     "execution_count": 488,
     "metadata": {},
     "output_type": "execute_result"
    }
   ],
   "source": [
    "np.sqrt(-1.500)"
   ]
  },
  {
   "cell_type": "code",
   "execution_count": 499,
   "metadata": {},
   "outputs": [
    {
     "data": {
      "text/plain": [
       "<scipy.stats._distn_infrastructure.rv_continuous_frozen at 0x1674d9258e0>"
      ]
     },
     "execution_count": 499,
     "metadata": {},
     "output_type": "execute_result"
    }
   ],
   "source": [
    "\n",
    "scipy.stats.t(X[:,1], Y)"
   ]
  },
  {
   "cell_type": "code",
   "execution_count": 503,
   "metadata": {},
   "outputs": [
    {
     "data": {
      "text/plain": [
       "6.373276981705402e-117"
      ]
     },
     "execution_count": 503,
     "metadata": {},
     "output_type": "execute_result"
    }
   ],
   "source": [
    "\n",
    "sig_statistic = (SSR/lr.d)/lr.var()**0.5\n",
    "p_significance = scipy.stats.f.sf(sig_statistic, lr.d, lr.n-lr.d-1)\n",
    "p_significance"
   ]
  },
  {
   "cell_type": "code",
   "execution_count": null,
   "metadata": {},
   "outputs": [],
   "source": [
    "#βˆi ± tα/2σˆ2√cii"
   ]
  }
 ],
 "metadata": {
  "kernelspec": {
   "display_name": ".venv",
   "language": "python",
   "name": "python3"
  },
  "language_info": {
   "codemirror_mode": {
    "name": "ipython",
    "version": 3
   },
   "file_extension": ".py",
   "mimetype": "text/x-python",
   "name": "python",
   "nbconvert_exporter": "python",
   "pygments_lexer": "ipython3",
   "version": "3.12.5"
  }
 },
 "nbformat": 4,
 "nbformat_minor": 2
}
